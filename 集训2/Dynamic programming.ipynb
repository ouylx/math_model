{
 "cells": [
  {
   "cell_type": "code",
   "execution_count": 2,
   "id": "826416cf-a586-4749-a590-79fe5745024d",
   "metadata": {},
   "outputs": [],
   "source": [
    "import numpy as np"
   ]
  },
  {
   "cell_type": "code",
   "execution_count": 3,
   "id": "a8bcfa39-4622-4522-b7eb-edbc7c7980fd",
   "metadata": {},
   "outputs": [
    {
     "name": "stdout",
     "output_type": "stream",
     "text": [
      "[0, 1, 3, 4, 7, 11, 18, 29, 47, 76]\n"
     ]
    }
   ],
   "source": [
    "# 问题描述：一只青蛙一次可以跳上1级台阶，也可以跳上2级。求该青蛙跳上一个n级的台阶总共有多少种跳法。\n",
    "\n",
    "n = 10  #台阶数\n",
    "dp = [0]*n\n",
    "for i in range(n):\n",
    "    if i ==0:\n",
    "        dp[i] = 0\n",
    "    elif i == 1:\n",
    "        dp[i] = 1\n",
    "    elif i == 2:\n",
    "        dp[i] = 2\n",
    "    else:\n",
    "        dp[i] = dp[i-1] + dp[i-2]\n",
    "print(dp)"
   ]
  },
  {
   "cell_type": "code",
   "execution_count": 8,
   "id": "ce9e4076-fcbc-465c-9910-a8edb123f521",
   "metadata": {},
   "outputs": [
    {
     "name": "stdout",
     "output_type": "stream",
     "text": [
      "[[0.000e+00 0.000e+00 0.000e+00 0.000e+00 0.000e+00 0.000e+00 0.000e+00\n",
      "  0.000e+00 0.000e+00 0.000e+00 0.000e+00]\n",
      " [0.000e+00 1.000e+00 1.000e+00 1.000e+00 1.000e+00 1.000e+00 1.000e+00\n",
      "  1.000e+00 1.000e+00 1.000e+00 1.000e+00]\n",
      " [0.000e+00 1.000e+00 2.000e+00 3.000e+00 4.000e+00 5.000e+00 6.000e+00\n",
      "  7.000e+00 8.000e+00 9.000e+00 1.000e+01]\n",
      " [0.000e+00 1.000e+00 3.000e+00 6.000e+00 1.000e+01 1.500e+01 2.100e+01\n",
      "  2.800e+01 3.600e+01 4.500e+01 5.500e+01]\n",
      " [0.000e+00 1.000e+00 4.000e+00 1.000e+01 2.000e+01 3.500e+01 5.600e+01\n",
      "  8.400e+01 1.200e+02 1.650e+02 2.200e+02]\n",
      " [0.000e+00 1.000e+00 5.000e+00 1.500e+01 3.500e+01 7.000e+01 1.260e+02\n",
      "  2.100e+02 3.300e+02 4.950e+02 7.150e+02]\n",
      " [0.000e+00 1.000e+00 6.000e+00 2.100e+01 5.600e+01 1.260e+02 2.520e+02\n",
      "  4.620e+02 7.920e+02 1.287e+03 2.002e+03]\n",
      " [0.000e+00 1.000e+00 7.000e+00 2.800e+01 8.400e+01 2.100e+02 4.620e+02\n",
      "  9.240e+02 1.716e+03 3.003e+03 5.005e+03]\n",
      " [0.000e+00 1.000e+00 8.000e+00 3.600e+01 1.200e+02 3.300e+02 7.920e+02\n",
      "  1.716e+03 3.432e+03 6.435e+03 1.144e+04]\n",
      " [0.000e+00 1.000e+00 9.000e+00 4.500e+01 1.650e+02 4.950e+02 1.287e+03\n",
      "  3.003e+03 6.435e+03 1.287e+04 2.431e+04]\n",
      " [0.000e+00 1.000e+00 1.000e+01 5.500e+01 2.200e+02 7.150e+02 2.002e+03\n",
      "  5.005e+03 1.144e+04 2.431e+04 4.862e+04]]\n"
     ]
    }
   ],
   "source": [
    "# 一个机器人位于一个 m x n 网格的左上角 （起始点在下图中标记为“Start” ）。机器人每次只能向下或者向右移动一步。机器人试图达到网格的右下角（在下图中标记为“Finish”）。问总共有多少条不同的路径？\n",
    "\n",
    "m = 10\n",
    "n = 10\n",
    "dp = np.zeros([m+1,n+1])\n",
    "for i in range(1,m+1):\n",
    "    dp[i,1] = 1\n",
    "for j in range(1,n+1):\n",
    "    dp[1,j] = 1\n",
    "for i in range(2,m+1):\n",
    "    for j in range(2,n+1):\n",
    "        dp[i,j] = dp[i-1,j] + dp[i,j-1]\n",
    "print(dp)"
   ]
  },
  {
   "cell_type": "code",
   "execution_count": 17,
   "id": "6e68970d-dd56-494d-b992-1702f6217217",
   "metadata": {},
   "outputs": [
    {
     "name": "stdout",
     "output_type": "stream",
     "text": [
      "[0, 0]\n",
      "[0, 1]\n",
      "[0, 2]\n",
      "[1, 2]\n",
      "[2, 2]\n"
     ]
    },
    {
     "data": {
      "text/plain": [
       "array([[1., 4., 5.],\n",
       "       [2., 7., 6.],\n",
       "       [6., 8., 7.]])"
      ]
     },
     "execution_count": 17,
     "metadata": {},
     "output_type": "execute_result"
    }
   ],
   "source": [
    "# 给定一个包含非负整数的 m x n 网格，请找出一条从左上角到右下角的路径，使得路径上的数字总和为最小。\n",
    "arr = np.array(\n",
    "     [[1,3,1],\n",
    "       [1,5,1],\n",
    "       [4,2,1]])\n",
    "m = arr.shape[0]\n",
    "n = arr.shape[1]\n",
    "dp = np.zeros((arr.shape[0], arr.shape[1]))\n",
    "x = np.zeros((arr.shape[0], arr.shape[1]))  # 存储路径\n",
    "dp[0,0] = arr[0,0]\n",
    "for i in range(1,dp.shape[0]):\n",
    "    dp[i,0] = dp[i-1,0] + arr[i,0]\n",
    "    x[i,0] = (i-1)*m  # x储存上一步的行列\n",
    "for j in range(1,dp.shape[1]):\n",
    "    dp[0,j] = dp[0,j-1] + arr[0,j]\n",
    "    x[0,j] = j-1\n",
    "    \n",
    "\n",
    "for i in range(1,dp.shape[0]):\n",
    "    for j in range(1,dp.shape[1]):\n",
    "        dp[i,j] = min(dp[i-1,j],dp[i,j-1]) + arr[i,j]  # 状态转移方程\n",
    "        if dp[i,j] == dp[i-1,j]+arr[i,j]:\n",
    "            x[i,j] = (i-1)*m + j\n",
    "        if dp[i,j] == dp[i,j-1]+arr[i,j]:\n",
    "            x[i,j] = i*m + j-1\n",
    "def route(a,b):  # 递归\n",
    "    if a == 0 and b == 0:\n",
    "        print([0,0])\n",
    "    else:\n",
    "        route(int(x[a,b]/m),int(x[a,b]%m))\n",
    "        print([a,b])\n",
    "        \n",
    "    \n",
    "route(m-1,n-1)\n",
    "dp\n"
   ]
  },
  {
   "cell_type": "code",
   "execution_count": null,
   "id": "367f52fc-fb70-4d07-9f0f-215a1969ce1f",
   "metadata": {},
   "outputs": [],
   "source": [
    "# 01背包问题\n",
    "\"\"\"给定 n 种物品和一个容量为 C 的背包，物品 i 的重量是 wi，其价值为 vi。\n",
    "问：应该如何选择装入背包的物品，使得装入背包中的物品的总价值最大？\"\"\"\n"
   ]
  }
 ],
 "metadata": {
  "kernelspec": {
   "display_name": "Python 3 (ipykernel)",
   "language": "python",
   "name": "python3"
  },
  "language_info": {
   "codemirror_mode": {
    "name": "ipython",
    "version": 3
   },
   "file_extension": ".py",
   "mimetype": "text/x-python",
   "name": "python",
   "nbconvert_exporter": "python",
   "pygments_lexer": "ipython3",
   "version": "3.11.7"
  }
 },
 "nbformat": 4,
 "nbformat_minor": 5
}
